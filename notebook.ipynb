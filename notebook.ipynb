{
 "cells": [
  {
   "cell_type": "code",
   "execution_count": 2,
   "id": "bbba1425",
   "metadata": {},
   "outputs": [],
   "source": [
    "from google import genai\n",
    "import json\n",
    "from typing import Generator, Iterator\n"
   ]
  },
  {
   "cell_type": "code",
   "execution_count": 3,
   "id": "98d0f174",
   "metadata": {},
   "outputs": [],
   "source": [
    "with open(\".env\", \"r\") as f:\n",
    "    API_KEY = f.readline()\n",
    "MODEL = \"gemini-2.5-flash-lite\"\n",
    "\n",
    "client = genai.Client(api_key=API_KEY)\n",
    "\n",
    "def gemini(text: str) -> genai.types.GenerateContentResponse:\n",
    "    return client.models.generate_content(model=MODEL, contents=text)"
   ]
  },
  {
   "cell_type": "code",
   "execution_count": 4,
   "id": "e6f79e58",
   "metadata": {},
   "outputs": [],
   "source": [
    "with open(\"longbench.json\", \"r\", encoding=\"utf-8\") as f:\n",
    "    longbench = json.load(f)"
   ]
  },
  {
   "cell_type": "code",
   "execution_count": 5,
   "id": "94bb06a8",
   "metadata": {},
   "outputs": [],
   "source": [
    "def allWithQuality(kvPairs: list[tuple[str, str]]) -> Generator:\n",
    "    for item in longbench:\n",
    "        if all(item[k] == v for k,v in kvPairs):\n",
    "            yield item"
   ]
  },
  {
   "cell_type": "code",
   "execution_count": 6,
   "id": "f2cf3322",
   "metadata": {},
   "outputs": [],
   "source": [
    "# response = gemini(\"What would you make the 27th letter of the alphabet\")"
   ]
  },
  {
   "cell_type": "code",
   "execution_count": 10,
   "id": "5875c8a8",
   "metadata": {},
   "outputs": [
    {
     "name": "stdout",
     "output_type": "stream",
     "text": [
      "In the function that calculates the derivative of given functions, which of the following keyword arguments are all recognized?\n"
     ]
    }
   ],
   "source": [
    "for bench in allWithQuality([(\"difficulty\", \"easy\"), (\"length\", \"long\")]):\n",
    "    print(bench[\"question\"])\n",
    "    with open(\"out.txt\", \"w\", encoding=\"utf-8\") as f:\n",
    "        f.write(bench[\"context\"])\n",
    "    break"
   ]
  },
  {
   "cell_type": "code",
   "execution_count": 65,
   "id": "c4bf5b38",
   "metadata": {},
   "outputs": [],
   "source": [
    "CHAR_TO_TOKEN_RATIO = .25\n",
    "EPSILON = 1.1\n",
    "TOKEN_LIMIT = 256\n",
    "\n",
    "# str.split() except it makes sure we don't make any tiny splits\n",
    "def splitMinLength(s: str, splitChar: str, minLength: int) -> list[str]:\n",
    "    i = 0\n",
    "    ret = []\n",
    "    while i < len(s):\n",
    "        item = \"\"\n",
    "        while i < len(s):\n",
    "            item += s[i]\n",
    "            if item.endswith(splitChar) and len(item) >= minLength: \n",
    "                ret.append(item)\n",
    "                break\n",
    "            i += 1\n",
    "        i += 1\n",
    "    return ret\n",
    "\n",
    "def chunkify(context: str, splitChar: str, minLength: int) -> Iterator[str]:    \n",
    "    i = 0\n",
    "    # splitContext = splitMinLength(context, splitChar, minLength)\n",
    "    splitContext = [i + splitChar for i in context.split(splitChar)]\n",
    "    while i < len(splitContext):\n",
    "        chunk = \"\"\n",
    "        collected = 0\n",
    "        while i < len(splitContext) \\\n",
    "        and (len(splitContext[i]) * CHAR_TO_TOKEN_RATIO + collected) * EPSILON < TOKEN_LIMIT:\n",
    "            chunk += splitContext[i]\n",
    "            collected += (len(splitContext[i]) * CHAR_TO_TOKEN_RATIO)\n",
    "            i += 1\n",
    "\n",
    "        # If single chunk is still too big with current strategy fall back to simpler strat\n",
    "        if chunk == \"\" and i < len(splitContext):\n",
    "            if splitChar != \"\\n\":\n",
    "                yield from chunkify_lineBreaks(splitContext[i])\n",
    "            else:\n",
    "                yield from chunkify_naive(splitContext[i])\n",
    "            i += 1\n",
    "        elif chunk != \"\":\n",
    "            yield chunk\n",
    "\n",
    "def chunkify_lineBreaks(context: str) -> Iterator[str]:\n",
    "    yield from chunkify(context, \"\\n\", 0)\n",
    "\n",
    "def chunkify_periods(context: str) -> Iterator[str]:\n",
    "    yield from chunkify(context, \".\", 50)\n",
    "\n",
    "def chunkify_blankLines(context: str) -> Iterator[str]:\n",
    "    yield from chunkify(context, \"\\n\\n\", 200)\n",
    "\n",
    "def chunkify_naive(context: str) -> Iterator[str]:\n",
    "    i = 0\n",
    "    charsToSkip = int(TOKEN_LIMIT / CHAR_TO_TOKEN_RATIO / EPSILON)\n",
    "    while i + charsToSkip < len(context):\n",
    "        yield context[i:i+charsToSkip]\n",
    "        i += charsToSkip\n",
    "    yield context[i:]\n"
   ]
  },
  {
   "cell_type": "code",
   "execution_count": 68,
   "id": "8d41d1c8",
   "metadata": {},
   "outputs": [],
   "source": [
    "testbench = longbench[0]\n",
    "# print(testbench[\"question\"])\n",
    "with open(\"out.txt\", \"w\", encoding=\"utf-8\") as f:\n",
    "    i = 0\n",
    "    for chunk in chunkify_lineBreaks(testbench[\"context\"]):\n",
    "        f.write(f\"-----Chunk {i+1}-----\\n{chunk}\\n\")\n",
    "        i += 1\n",
    "        if i >= 10: break"
   ]
  },
  {
   "cell_type": "code",
   "execution_count": 73,
   "id": "3c3db55c",
   "metadata": {},
   "outputs": [
    {
     "name": "stdout",
     "output_type": "stream",
     "text": [
      "The question asks how to promote the construction of smart courts. Let's examine the provided text for information related to \"smart courts\" or \"intelligent courts.\"\n",
      "\n",
      "Section XI. \"Advancing the Construction of Intelligent Courts\" directly addresses this topic.\n",
      "The introductory paragraph states: \"Since 2013, the people’s courts have conscientiously implemented the innovation-driven strategy, the national cyber development strategy, the big data strategy, and the new-generation artificial intelligence development plan, and comprehensively strengthened the construction of intelligent courts. The open, and intelligent online Apps have been comprehensively developed, and the main framework of court informatization version 3.0 has been established, which greatly promotes the modernization of the judicial system and judicial capability.\"\n",
      "\n",
      "Let's analyze the options:\n",
      "\n",
      "*   **A: Through technology empowerment, change the way of working and improve office efficiency.** This aligns with the general theme of strengthening courts through technology and improving efficiency, as discussed in the \"Intelligent Courts\" section and throughout the document. The text mentions \"greatly promotes the modernization of the judicial system and judicial capability\" and the use of \"open, and intelligent online Apps.\"\n",
      "\n",
      "*   **B: Establish new types of courts, such as intellectual property courts, financial courts, and Internet courts, and accelerate the construction of intelligent courts.** While the text does mention the establishment of these specialized courts in Section III, this is a reform of organizational structure, not directly a method for *promoting the construction of smart courts*. Smart court construction is a broader concept related to technology integration across the system.\n",
      "\n",
      "*   **C: Improve the work ability of office staff and strengthen the reserve of work knowledge.** While this is generally good practice, it's not the primary method discussed for building \"smart courts.\" The focus of smart courts is on technological integration and systems, not solely on individual staff development.\n",
      "\n",
      "*   **D: Use advanced information systems to improve the level of information technology in case handling.** The text in Section XI explicitly discusses enhancing informatization infrastructure, promoting \"electronic litigation\" for \"whole-process online\" handling, and developing systems for \"intelligent assistance in case trial and judicial management.\" This option directly relates to the core activities described for building intelligent courts.\n",
      "\n",
      "Comparing options A and D:\n",
      "Option A talks about \"technology empowerment,\" \"changing the way of working,\" and \"improving office efficiency.\" This is a good general description.\n",
      "Option D talks about \"using advanced information systems\" and \"improving the level of information technology in case handling.\" This is more specific and directly reflects the content within Section XI, which details the development of online platforms, electronic litigation, and intelligent assistance systems.\n",
      "\n",
      "Looking back at Section XI, it emphasizes \"informatization\" and \"intelligent courts.\" The text mentions:\n",
      "    *   \"Enhancing the formulation of top-level informatization planning and standards.\"\n",
      "    *   \"Strengthening the construction of informatization infrastructure and security system.\"\n",
      "    *   \"Fully promoting electronic litigation.\"\n",
      "    *   \"Developing and applying a criminal trial intelligent assistant system.\"\n",
      "    *   \"Strengthening the intelligent assistance in case trial and judicial management.\"\n",
      "    *   \"Having informatization and big data serve judicial management and decision making.\"\n",
      "\n",
      "Option D most accurately captures the essence of these initiatives by focusing on the use of advanced information systems to improve IT levels in case handling. Option A is broader and less specific to the technological aspect of \"smart courts.\" Option D is a direct consequence of the strategies outlined in Section XI.\n",
      "\n",
      "The final answer is $\\boxed{D}$.\n"
     ]
    }
   ],
   "source": [
    "response = None\n",
    "for bench in allWithQuality([(\"difficulty\", \"easy\"), (\"length\", \"short\")]):\n",
    "    # print(bench[\"question\"])\n",
    "    # print(\"\".join((f\"{c}: {bench[f\"choice_{c}\"]}\\n\" for c in [\"A\", \"B\", \"C\", \"D\"])))\n",
    "    # print(bench[\"answer\"])\n",
    "    prompt = f\"You will be provided long context, and then a multiple choice question. Please attempt to choose the correct answer:\\n\"\n",
    "    prompt += f\"CONTEXT: {bench[\"context\"]}\\n\"\n",
    "    prompt += f\"QUESTION: {bench[\"question\"]}\\n\"\n",
    "    prompt += (\"\".join((f\"{c}: {bench[f\"choice_{c}\"]}\\n\" for c in [\"A\", \"B\", \"C\", \"D\"])))\n",
    "    response = gemini(prompt)\n",
    "    print(response.text)\n",
    "    break\n",
    "\n"
   ]
  },
  {
   "cell_type": "code",
   "execution_count": 37,
   "id": "17a575e1",
   "metadata": {},
   "outputs": [],
   "source": [
    "with open(\"out.txt\", \"w\", encoding=\"utf-8\") as f:\n",
    "    f.write(testbench[\"context\"])"
   ]
  }
 ],
 "metadata": {
  "kernelspec": {
   "display_name": "Research Assistant Work",
   "language": "python",
   "name": "python3"
  },
  "language_info": {
   "codemirror_mode": {
    "name": "ipython",
    "version": 3
   },
   "file_extension": ".py",
   "mimetype": "text/x-python",
   "name": "python",
   "nbconvert_exporter": "python",
   "pygments_lexer": "ipython3",
   "version": "3.13.2"
  }
 },
 "nbformat": 4,
 "nbformat_minor": 5
}
